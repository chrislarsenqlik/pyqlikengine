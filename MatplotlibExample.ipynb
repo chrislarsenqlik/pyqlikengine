{
 "cells": [
  {
   "cell_type": "code",
   "execution_count": 1,
   "metadata": {
    "collapsed": true
   },
   "outputs": [],
   "source": [
    "%matplotlib inline"
   ]
  },
  {
   "cell_type": "code",
   "execution_count": 2,
   "metadata": {},
   "outputs": [],
   "source": [
    "from pylab import *"
   ]
  },
  {
   "cell_type": "code",
   "execution_count": 3,
   "metadata": {},
   "outputs": [],
   "source": [
    "from matplotlib.pyplot import figure, plot, xlabel, ylabel, title, show"
   ]
  },
  {
   "cell_type": "code",
   "execution_count": null,
   "metadata": {},
   "outputs": [],
   "source": [
    "import pyqlikengine.engine_communicator\n",
    "import pyqlikengine.engine_global_api\n",
    "import pyqlikengine.engine_app_api\n",
    "import pyqlikengine.engine_generic_object_api\n",
    "import pyqlikengine.engine_field_api\n",
    "import pyqlikengine.structs\n",
    "\n",
    "url = \"ws://localhost:4848/app\"\n",
    "conn = pyqlikengine.engine_communicator.EngineCommunicator(url)\n",
    "ega = pyqlikengine.engine_global_api.EngineGlobalApi(conn)\n",
    "eaa = pyqlikengine.engine_app_api.EngineAppApi(conn)\n",
    "egoa = pyqlikengine.engine_generic_object_api.EngineGenericObjectApi(conn)\n",
    "efa = pyqlikengine.engine_field_api.EngineFieldApi(conn)\n",
    "Structs = pyqlikengine.structs.Structs()\n",
    "app = ega.create_app(\"TestApp\")\n",
    "opened_app = ega.open_doc(app)\n",
    "app_handle = ega.get_handle(opened_app)\n",
    "\n",
    "script = \"Load Chr(RecNo()+Ord('A')-1) as Alpha, RecNo() as Num autogenerate 26;\"\n",
    "eaa.set_script(app_handle, script)\n",
    "eaa.do_reload_ex(app_handle)\n",
    "hc_inline_dim = Structs.nx_inline_dimension_def([\"Alpha\"])\n",
    "hc_mes_sort = Structs.nx_sort_by()\n",
    "hc_inline_mes = Structs.nx_inline_measure_def(\"=Sum(Num)\")\n",
    "hc_dim = Structs.nx_hypercube_dimensions(hc_inline_dim)\n",
    "hc_mes = Structs.nx_hypercube_measure(hc_mes_sort, hc_inline_mes)\n",
    "nx_page = Structs.nx_page(0, 0, 26, 2)\n",
    "hc_def = Structs.hypercube_def(\"$\", [hc_dim],[hc_mes], [nx_page])\n",
    "hc_response = eaa.create_object(app_handle, \"CH01\", \"Chart\", \"qHyperCubeDef\", hc_def)\n",
    "hc_handle = ega.get_handle(hc_response)\n",
    "egoa.get_layout(hc_handle)\n",
    "lb_field = eaa.get_field(app_handle, \"Alpha\")\n",
    "fld_handle = ega.get_handle(lb_field)\n",
    "values_to_select = [{'qText': 'A'}, {'qText': 'B'}, {'qText': 'C'}]\n",
    "sel_res = efa.select_values(fld_handle,values_to_select)\n",
    "hc_data = egoa.get_hypercube_data(hc_handle, \"/qHyperCubeDef\", [nx_page])\n",
    "elems = hc_data[\"qDataPages\"][0]['qMatrix']\n",
    "dim_list = []\n",
    "mes_list = []\n",
    "for elem in range(len(elems)):\n",
    "    dim_list.append(elems[elem][0][\"qText\"])\n",
    "    mes_list.append(elems[elem][1][\"qNum\"])\n",
    "ega.delete_app(app)\n",
    "conn.close_qvengine_connection(conn)\n",
    "print(dim_list)\n",
    "print(mes_list)\n",
    "\n"
   ]
  },
  {
   "cell_type": "code",
   "execution_count": null,
   "metadata": {},
   "outputs": [],
   "source": [
    "figure()\n",
    "plot(dim_list, mes_list)\n",
    "xlabel('x')\n",
    "ylabel('y')\n",
    "title('title')\n",
    "show()\n",
    "\n",
    "\n",
    "\n",
    "\n",
    "\n",
    "\n",
    "\n",
    "\n",
    "\n"
   ]
  }
 ],
 "metadata": {
  "kernelspec": {
   "display_name": "Python 2",
   "language": "python",
   "name": "python2"
  },
  "language_info": {
   "codemirror_mode": {
    "name": "ipython",
    "version": 2
   },
   "file_extension": ".py",
   "mimetype": "text/x-python",
   "name": "python",
   "nbconvert_exporter": "python",
   "pygments_lexer": "ipython2",
   "version": "2.7.6"
  }
 },
 "nbformat": 4,
 "nbformat_minor": 0
}
